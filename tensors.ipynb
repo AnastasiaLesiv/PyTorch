{
 "cells": [
  {
   "cell_type": "code",
   "execution_count": 1,
   "id": "642d34cd-028f-4e9b-a748-a1fb85559fdb",
   "metadata": {},
   "outputs": [],
   "source": [
    "import torch\n",
    "import numpy as np"
   ]
  },
  {
   "cell_type": "code",
   "execution_count": 2,
   "id": "3338da95-2d14-414f-81bc-d34108d2bf39",
   "metadata": {},
   "outputs": [],
   "source": [
    "# Directly from data\n",
    "data = [[1, 2],[3, 4]]\n",
    "x_data = torch.tensor(data)\n",
    "my_tensor = torch.tensor([[5,6],[7,8]])"
   ]
  },
  {
   "cell_type": "code",
   "execution_count": 3,
   "id": "a0a876b0-a1fe-40dc-a164-3bc8e2b0ec1c",
   "metadata": {},
   "outputs": [],
   "source": [
    "# From a NumPy array\n",
    "np_array = np.array(data)\n",
    "x_np = torch.from_numpy(np_array)"
   ]
  },
  {
   "cell_type": "code",
   "execution_count": 4,
   "id": "224b9e44-c779-4af1-9fc6-ebec9db5138c",
   "metadata": {},
   "outputs": [
    {
     "name": "stdout",
     "output_type": "stream",
     "text": [
      "Ones Tensor: \n",
      " tensor([[1, 1],\n",
      "        [1, 1]]) \n",
      "\n",
      "Random Tensor: \n",
      " tensor([[0.0099, 0.7670],\n",
      "        [0.7374, 0.7097]]) \n",
      "\n"
     ]
    }
   ],
   "source": [
    "# From another tensor\n",
    "x_ones = torch.ones_like(x_data) # retains the properties of x_data\n",
    "print(f\"Ones Tensor: \\n {x_ones} \\n\")\n",
    "\n",
    "x_rand = torch.rand_like(x_data, dtype=torch.float) # overrides the datatype of x_data\n",
    "print(f\"Random Tensor: \\n {x_rand} \\n\")"
   ]
  },
  {
   "cell_type": "code",
   "execution_count": 5,
   "id": "2d0d72ef-8504-4a3d-92e6-f1778c295e8c",
   "metadata": {},
   "outputs": [
    {
     "name": "stdout",
     "output_type": "stream",
     "text": [
      "Random Tensor: \n",
      " tensor([[0.3911, 0.1019, 0.9911],\n",
      "        [0.5974, 0.3452, 0.9252]]) \n",
      "\n",
      "Ones Tensor: \n",
      " tensor([[1., 1., 1.],\n",
      "        [1., 1., 1.]]) \n",
      "\n",
      "Zeros Tensor: \n",
      " tensor([[0., 0., 0.],\n",
      "        [0., 0., 0.]])\n"
     ]
    }
   ],
   "source": [
    "# With random or constant values\n",
    "shape = (2,3,)\n",
    "rand_tensor = torch.rand(shape)\n",
    "ones_tensor = torch.ones(shape)\n",
    "zeros_tensor = torch.zeros(shape)\n",
    "\n",
    "print(f\"Random Tensor: \\n {rand_tensor} \\n\")\n",
    "print(f\"Ones Tensor: \\n {ones_tensor} \\n\")\n",
    "print(f\"Zeros Tensor: \\n {zeros_tensor}\")"
   ]
  },
  {
   "cell_type": "code",
   "execution_count": 6,
   "id": "c2ab35e9-e4be-4a61-bb70-b9277572bf1f",
   "metadata": {},
   "outputs": [
    {
     "name": "stdout",
     "output_type": "stream",
     "text": [
      "Shape of tensor: torch.Size([3, 4])\n",
      "Datatype of tensor: torch.float32\n",
      "Device tensor is stored on: cpu\n"
     ]
    }
   ],
   "source": [
    "# Attributes of a Tensor\n",
    "tensor = torch.rand(3,4)\n",
    "\n",
    "print(f\"Shape of tensor: {tensor.shape}\")\n",
    "print(f\"Datatype of tensor: {tensor.dtype}\")\n",
    "print(f\"Device tensor is stored on: {tensor.device}\")"
   ]
  },
  {
   "cell_type": "code",
   "execution_count": 7,
   "id": "d6e1a8a9-af78-4bcf-bdd5-fc4584ffd6b1",
   "metadata": {},
   "outputs": [
    {
     "name": "stdout",
     "output_type": "stream",
     "text": [
      "First row: tensor([1., 1., 1., 1.])\n",
      "First column: tensor([1., 1., 1., 1.])\n",
      "Last column: tensor([1., 1., 1., 1.])\n",
      "tensor([[1., 0., 1., 1.],\n",
      "        [1., 0., 1., 1.],\n",
      "        [1., 0., 1., 1.],\n",
      "        [1., 0., 1., 1.]])\n"
     ]
    }
   ],
   "source": [
    "# Standard numpy-like indexing and slicing\n",
    "tensor = torch.ones(4, 4)\n",
    "print(f\"First row: {tensor[0]}\")\n",
    "print(f\"First column: {tensor[:, 0]}\")\n",
    "print(f\"Last column: {tensor[..., -1]}\")\n",
    "tensor[:,1] = 0\n",
    "print(tensor)"
   ]
  },
  {
   "cell_type": "code",
   "execution_count": 8,
   "id": "b529f258-0ba0-48c6-99aa-234c20dc8d77",
   "metadata": {},
   "outputs": [
    {
     "name": "stdout",
     "output_type": "stream",
     "text": [
      "tensor([[1., 0., 1., 1., 1., 0., 1., 1., 1., 0., 1., 1.],\n",
      "        [1., 0., 1., 1., 1., 0., 1., 1., 1., 0., 1., 1.],\n",
      "        [1., 0., 1., 1., 1., 0., 1., 1., 1., 0., 1., 1.],\n",
      "        [1., 0., 1., 1., 1., 0., 1., 1., 1., 0., 1., 1.]])\n"
     ]
    }
   ],
   "source": [
    "# Joining tensors\n",
    "t1 = torch.cat([tensor, tensor, tensor], dim=1)\n",
    "print(t1)"
   ]
  },
  {
   "cell_type": "code",
   "execution_count": 9,
   "id": "a0a3d472-2c9b-4ba2-bcc4-1829c93bacec",
   "metadata": {},
   "outputs": [],
   "source": [
    "# Arithmetic operations"
   ]
  },
  {
   "cell_type": "code",
   "execution_count": 10,
   "id": "ea6b40e2-7fc2-43c2-bc5e-1c64e0d8cd94",
   "metadata": {},
   "outputs": [
    {
     "data": {
      "text/plain": [
       "tensor([[1., 0., 1., 1.],\n",
       "        [1., 0., 1., 1.],\n",
       "        [1., 0., 1., 1.],\n",
       "        [1., 0., 1., 1.]])"
      ]
     },
     "execution_count": 10,
     "metadata": {},
     "output_type": "execute_result"
    }
   ],
   "source": [
    "# This computes the matrix multiplication between two tensors. y1, y2, y3 will have the same value\n",
    "# ``tensor.T`` returns the transpose of a tensor\n",
    "y1 = tensor @ tensor.T\n",
    "y2 = tensor.matmul(tensor.T)\n",
    "\n",
    "y3 = torch.rand_like(y1)\n",
    "torch.matmul(tensor, tensor.T, out=y3)\n",
    "\n",
    "\n",
    "# This computes the element-wise product. z1, z2, z3 will have the same value\n",
    "z1 = tensor * tensor\n",
    "z2 = tensor.mul(tensor)\n",
    "\n",
    "z3 = torch.rand_like(tensor)\n",
    "torch.mul(tensor, tensor, out=z3)"
   ]
  },
  {
   "cell_type": "code",
   "execution_count": 11,
   "id": "a22c373b-2572-4e1c-9973-c0ac6296279e",
   "metadata": {},
   "outputs": [
    {
     "name": "stdout",
     "output_type": "stream",
     "text": [
      "tensor(12.)\n",
      "12.0 <class 'float'>\n"
     ]
    }
   ],
   "source": [
    "# Single-element tensors\n",
    "agg = tensor.sum()\n",
    "print(agg)\n",
    "agg_item = agg.item()\n",
    "print(agg_item, type(agg_item))"
   ]
  },
  {
   "cell_type": "code",
   "execution_count": 12,
   "id": "5afbd79a-83a6-4807-979e-97d619a4b2e6",
   "metadata": {},
   "outputs": [
    {
     "name": "stdout",
     "output_type": "stream",
     "text": [
      "tensor([[1., 0., 1., 1.],\n",
      "        [1., 0., 1., 1.],\n",
      "        [1., 0., 1., 1.],\n",
      "        [1., 0., 1., 1.]]) \n",
      "\n",
      "tensor([[6., 5., 6., 6.],\n",
      "        [6., 5., 6., 6.],\n",
      "        [6., 5., 6., 6.],\n",
      "        [6., 5., 6., 6.]])\n"
     ]
    }
   ],
   "source": [
    "# In-place operations Operations that store the result into the operand are called in-place. They are denoted by a _ suffix.\n",
    "print(f\"{tensor} \\n\")\n",
    "tensor.add_(5)\n",
    "print(tensor)"
   ]
  },
  {
   "cell_type": "code",
   "execution_count": 13,
   "id": "ebe303da-f245-415b-9cd3-76c4452a03e2",
   "metadata": {},
   "outputs": [
    {
     "name": "stdout",
     "output_type": "stream",
     "text": [
      "t: tensor([1., 1., 1., 1., 1.])\n",
      "n: [1. 1. 1. 1. 1.]\n"
     ]
    }
   ],
   "source": [
    "# Tensor to NumPy array\n",
    "t = torch.ones(5)\n",
    "print(f\"t: {t}\")\n",
    "n = t.numpy()\n",
    "print(f\"n: {n}\")"
   ]
  },
  {
   "cell_type": "code",
   "execution_count": 14,
   "id": "cfdd6be4-984e-4243-ab27-02db98281107",
   "metadata": {},
   "outputs": [
    {
     "name": "stdout",
     "output_type": "stream",
     "text": [
      "t: tensor([2., 2., 2., 2., 2.])\n",
      "n: [2. 2. 2. 2. 2.]\n"
     ]
    }
   ],
   "source": [
    "# A change in the tensor reflects in the NumPy array.\n",
    "t.add_(1)\n",
    "print(f\"t: {t}\")\n",
    "print(f\"n: {n}\")"
   ]
  },
  {
   "cell_type": "code",
   "execution_count": 15,
   "id": "898744f7-c33f-45a7-abae-4122a9eb4909",
   "metadata": {},
   "outputs": [
    {
     "name": "stdout",
     "output_type": "stream",
     "text": [
      "Сума тензорів (варіант 1): \n",
      "tensor([[ 6,  8],\n",
      "        [10, 12]])\n",
      "Сума тензорів (варіант 2): \n",
      "tensor([[ 6,  8],\n",
      "        [10, 12]])\n",
      "Поелементний добуток тензорів (варіант 1): \n",
      "tensor([[ 5, 12],\n",
      "        [21, 32]])\n",
      "Поелементний добуток тензорів (варіант 2): \n",
      "tensor([[ 5, 12],\n",
      "        [21, 32]])\n",
      "Матричний добуток тензорів (варіант 1): \n",
      "tensor([[17, 39],\n",
      "        [23, 53]])\n",
      "Матричний добуток тензорів (варіант 2): \n",
      "tensor([[17, 39],\n",
      "        [23, 53]])\n",
      "Склеєний тензор (по горизонталі): \n",
      "tensor([[5, 6, 1, 2],\n",
      "        [7, 8, 3, 4]])\n",
      "Склеєний тензор (по вертикалі): \n",
      "tensor([[5, 6],\n",
      "        [7, 8],\n",
      "        [1, 2],\n",
      "        [3, 4]])\n"
     ]
    }
   ],
   "source": [
    "\n",
    "# Addition of tensors\n",
    "tensor_sum_1 = my_tensor + x_data # or\n",
    "tensor_sum_2 = my_tensor.add(x_data)\n",
    "\n",
    "print(f\"Сума тензорів (варіант 1): \\n{tensor_sum_1}\")\n",
    "print(f\"Сума тензорів (варіант 2): \\n{tensor_sum_2}\")\n",
    "\n",
    "# Element-by-element multiplicaton\n",
    "tensor_prod_1 = my_tensor * x_data # or\n",
    "tensor_prod_2 = my_tensor.mul(x_data)\n",
    "\n",
    "print(f\"Поелементний добуток тензорів (варіант 1): \\n{tensor_prod_1}\")\n",
    "print(f\"Поелементний добуток тензорів (варіант 2): \\n{tensor_prod_2}\")\n",
    "\n",
    "# Matrix multiplication\n",
    "tensor_matmul_1 = my_tensor @ x_data.T # or\n",
    "tensor_matmul_2 = my_tensor.matmul(x_data.T)\n",
    "\n",
    "print(f\"Матричний добуток тензорів (варіант 1): \\n{tensor_matmul_1}\")\n",
    "print(f\"Матричний добуток тензорів (варіант 2): \\n{tensor_matmul_2}\")\n",
    "\n",
    "# Combining tensors\n",
    "# Horizontaly\n",
    "tensor_cat_h = torch.cat((my_tensor, x_data), dim=1)\n",
    "\n",
    "print(f\"Склеєний тензор (по горизонталі): \\n{tensor_cat_h}\")\n",
    "\n",
    "#Vertically\n",
    "tensor_cat_v = torch.cat((my_tensor, x_data), dim=0)\n",
    "\n",
    "print(f\"Склеєний тензор (по вертикалі): \\n{tensor_cat_v}\")\n",
    "\n"
   ]
  },
  {
   "cell_type": "code",
   "execution_count": null,
   "id": "943261da-c138-429c-9b4a-e9b02ea5e807",
   "metadata": {},
   "outputs": [],
   "source": []
  }
 ],
 "metadata": {
  "kernelspec": {
   "display_name": "Python 3.11 (ipykernel)",
   "language": "python",
   "name": "python3.11"
  },
  "language_info": {
   "codemirror_mode": {
    "name": "ipython",
    "version": 3
   },
   "file_extension": ".py",
   "mimetype": "text/x-python",
   "name": "python",
   "nbconvert_exporter": "python",
   "pygments_lexer": "ipython3",
   "version": "3.11.10"
  }
 },
 "nbformat": 4,
 "nbformat_minor": 5
}
